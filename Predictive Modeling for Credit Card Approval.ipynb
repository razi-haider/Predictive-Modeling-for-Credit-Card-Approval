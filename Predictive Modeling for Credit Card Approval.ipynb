{
 "cells": [
  {
   "cell_type": "markdown",
   "id": "1e404cfb-02b4-4e00-b140-d13a7152094e",
   "metadata": {},
   "source": [
    "# Predictive Modeling for Credit Card Approval:\n",
    "#### Credit Card Approval Prediction with Decision Trees and RandomForest\n",
    "### Project by [Razi Haider](https://www.linkedin.com/in/razi-h/)"
   ]
  },
  {
   "cell_type": "markdown",
   "id": "28c305ce-89e9-4479-974c-d1af250cc46d",
   "metadata": {},
   "source": [
    "## Loading and Inspecting the Data"
   ]
  },
  {
   "cell_type": "code",
   "execution_count": 3,
   "id": "5072422a-9429-4e35-b7c8-1898851bbb41",
   "metadata": {},
   "outputs": [],
   "source": [
    "# Import necessary libraries\n",
    "import pandas as pd\n",
    "from sklearn import tree\n",
    "from sklearn.ensemble import RandomForestClassifier\n",
    "from sklearn.model_selection import train_test_split\n",
    "from sklearn.model_selection import cross_val_score\n",
    "from sklearn.metrics import accuracy_score, precision_score, recall_score, f1_score, confusion_matrix, ConfusionMatrixDisplay\n",
    "import matplotlib.pyplot as plt\n",
    "import numpy as np"
   ]
  },
  {
   "cell_type": "code",
   "execution_count": 4,
   "id": "baca4a18-95f3-4161-81b6-4143d5e5c755",
   "metadata": {},
   "outputs": [],
   "source": [
    "# Load the dataset\n",
    "df = pd.read_csv('CreditCardData.csv')"
   ]
  },
  {
   "cell_type": "code",
   "execution_count": 5,
   "id": "a166d646-0b75-4c06-90e8-74a04e595584",
   "metadata": {},
   "outputs": [
    {
     "data": {
      "text/html": [
       "<div>\n",
       "<style scoped>\n",
       "    .dataframe tbody tr th:only-of-type {\n",
       "        vertical-align: middle;\n",
       "    }\n",
       "\n",
       "    .dataframe tbody tr th {\n",
       "        vertical-align: top;\n",
       "    }\n",
       "\n",
       "    .dataframe thead th {\n",
       "        text-align: right;\n",
       "    }\n",
       "</style>\n",
       "<table border=\"1\" class=\"dataframe\">\n",
       "  <thead>\n",
       "    <tr style=\"text-align: right;\">\n",
       "      <th></th>\n",
       "      <th>Male</th>\n",
       "      <th>Age</th>\n",
       "      <th>Debt</th>\n",
       "      <th>Married</th>\n",
       "      <th>BankCustomer</th>\n",
       "      <th>EducationLevel</th>\n",
       "      <th>Ethnicity</th>\n",
       "      <th>YearsEmployed</th>\n",
       "      <th>PriorDefault</th>\n",
       "      <th>Employed</th>\n",
       "      <th>CreditScore</th>\n",
       "      <th>DriversLicense</th>\n",
       "      <th>Citizen</th>\n",
       "      <th>ZipCode</th>\n",
       "      <th>Income</th>\n",
       "      <th>Approved</th>\n",
       "    </tr>\n",
       "  </thead>\n",
       "  <tbody>\n",
       "    <tr>\n",
       "      <th>0</th>\n",
       "      <td>b</td>\n",
       "      <td>30.83</td>\n",
       "      <td>0.000</td>\n",
       "      <td>u</td>\n",
       "      <td>g</td>\n",
       "      <td>w</td>\n",
       "      <td>v</td>\n",
       "      <td>1.25</td>\n",
       "      <td>t</td>\n",
       "      <td>t</td>\n",
       "      <td>1</td>\n",
       "      <td>f</td>\n",
       "      <td>g</td>\n",
       "      <td>202</td>\n",
       "      <td>0</td>\n",
       "      <td>+</td>\n",
       "    </tr>\n",
       "    <tr>\n",
       "      <th>1</th>\n",
       "      <td>a</td>\n",
       "      <td>58.67</td>\n",
       "      <td>4.460</td>\n",
       "      <td>u</td>\n",
       "      <td>g</td>\n",
       "      <td>q</td>\n",
       "      <td>h</td>\n",
       "      <td>3.04</td>\n",
       "      <td>t</td>\n",
       "      <td>t</td>\n",
       "      <td>6</td>\n",
       "      <td>f</td>\n",
       "      <td>g</td>\n",
       "      <td>43</td>\n",
       "      <td>560</td>\n",
       "      <td>+</td>\n",
       "    </tr>\n",
       "    <tr>\n",
       "      <th>2</th>\n",
       "      <td>a</td>\n",
       "      <td>24.5</td>\n",
       "      <td>0.500</td>\n",
       "      <td>u</td>\n",
       "      <td>g</td>\n",
       "      <td>q</td>\n",
       "      <td>h</td>\n",
       "      <td>1.50</td>\n",
       "      <td>t</td>\n",
       "      <td>f</td>\n",
       "      <td>0</td>\n",
       "      <td>f</td>\n",
       "      <td>g</td>\n",
       "      <td>280</td>\n",
       "      <td>824</td>\n",
       "      <td>+</td>\n",
       "    </tr>\n",
       "    <tr>\n",
       "      <th>3</th>\n",
       "      <td>b</td>\n",
       "      <td>27.83</td>\n",
       "      <td>1.540</td>\n",
       "      <td>u</td>\n",
       "      <td>g</td>\n",
       "      <td>w</td>\n",
       "      <td>v</td>\n",
       "      <td>3.75</td>\n",
       "      <td>t</td>\n",
       "      <td>t</td>\n",
       "      <td>5</td>\n",
       "      <td>t</td>\n",
       "      <td>g</td>\n",
       "      <td>100</td>\n",
       "      <td>3</td>\n",
       "      <td>+</td>\n",
       "    </tr>\n",
       "    <tr>\n",
       "      <th>4</th>\n",
       "      <td>b</td>\n",
       "      <td>20.17</td>\n",
       "      <td>5.625</td>\n",
       "      <td>u</td>\n",
       "      <td>g</td>\n",
       "      <td>w</td>\n",
       "      <td>v</td>\n",
       "      <td>1.71</td>\n",
       "      <td>t</td>\n",
       "      <td>f</td>\n",
       "      <td>0</td>\n",
       "      <td>f</td>\n",
       "      <td>s</td>\n",
       "      <td>120</td>\n",
       "      <td>0</td>\n",
       "      <td>+</td>\n",
       "    </tr>\n",
       "    <tr>\n",
       "      <th>...</th>\n",
       "      <td>...</td>\n",
       "      <td>...</td>\n",
       "      <td>...</td>\n",
       "      <td>...</td>\n",
       "      <td>...</td>\n",
       "      <td>...</td>\n",
       "      <td>...</td>\n",
       "      <td>...</td>\n",
       "      <td>...</td>\n",
       "      <td>...</td>\n",
       "      <td>...</td>\n",
       "      <td>...</td>\n",
       "      <td>...</td>\n",
       "      <td>...</td>\n",
       "      <td>...</td>\n",
       "      <td>...</td>\n",
       "    </tr>\n",
       "    <tr>\n",
       "      <th>685</th>\n",
       "      <td>b</td>\n",
       "      <td>21.08</td>\n",
       "      <td>10.085</td>\n",
       "      <td>y</td>\n",
       "      <td>p</td>\n",
       "      <td>e</td>\n",
       "      <td>h</td>\n",
       "      <td>1.25</td>\n",
       "      <td>f</td>\n",
       "      <td>f</td>\n",
       "      <td>0</td>\n",
       "      <td>f</td>\n",
       "      <td>g</td>\n",
       "      <td>260</td>\n",
       "      <td>0</td>\n",
       "      <td>-</td>\n",
       "    </tr>\n",
       "    <tr>\n",
       "      <th>686</th>\n",
       "      <td>a</td>\n",
       "      <td>22.67</td>\n",
       "      <td>0.750</td>\n",
       "      <td>u</td>\n",
       "      <td>g</td>\n",
       "      <td>c</td>\n",
       "      <td>v</td>\n",
       "      <td>2.00</td>\n",
       "      <td>f</td>\n",
       "      <td>t</td>\n",
       "      <td>2</td>\n",
       "      <td>t</td>\n",
       "      <td>g</td>\n",
       "      <td>200</td>\n",
       "      <td>394</td>\n",
       "      <td>-</td>\n",
       "    </tr>\n",
       "    <tr>\n",
       "      <th>687</th>\n",
       "      <td>a</td>\n",
       "      <td>25.25</td>\n",
       "      <td>13.500</td>\n",
       "      <td>y</td>\n",
       "      <td>p</td>\n",
       "      <td>ff</td>\n",
       "      <td>ff</td>\n",
       "      <td>2.00</td>\n",
       "      <td>f</td>\n",
       "      <td>t</td>\n",
       "      <td>1</td>\n",
       "      <td>t</td>\n",
       "      <td>g</td>\n",
       "      <td>200</td>\n",
       "      <td>1</td>\n",
       "      <td>-</td>\n",
       "    </tr>\n",
       "    <tr>\n",
       "      <th>688</th>\n",
       "      <td>b</td>\n",
       "      <td>17.92</td>\n",
       "      <td>0.205</td>\n",
       "      <td>u</td>\n",
       "      <td>g</td>\n",
       "      <td>aa</td>\n",
       "      <td>v</td>\n",
       "      <td>0.04</td>\n",
       "      <td>f</td>\n",
       "      <td>f</td>\n",
       "      <td>0</td>\n",
       "      <td>f</td>\n",
       "      <td>g</td>\n",
       "      <td>280</td>\n",
       "      <td>750</td>\n",
       "      <td>-</td>\n",
       "    </tr>\n",
       "    <tr>\n",
       "      <th>689</th>\n",
       "      <td>b</td>\n",
       "      <td>35</td>\n",
       "      <td>3.375</td>\n",
       "      <td>u</td>\n",
       "      <td>g</td>\n",
       "      <td>c</td>\n",
       "      <td>h</td>\n",
       "      <td>8.29</td>\n",
       "      <td>f</td>\n",
       "      <td>f</td>\n",
       "      <td>0</td>\n",
       "      <td>t</td>\n",
       "      <td>g</td>\n",
       "      <td>0</td>\n",
       "      <td>0</td>\n",
       "      <td>-</td>\n",
       "    </tr>\n",
       "  </tbody>\n",
       "</table>\n",
       "<p>690 rows × 16 columns</p>\n",
       "</div>"
      ],
      "text/plain": [
       "    Male    Age    Debt Married BankCustomer EducationLevel Ethnicity  \\\n",
       "0      b  30.83   0.000       u            g              w         v   \n",
       "1      a  58.67   4.460       u            g              q         h   \n",
       "2      a   24.5   0.500       u            g              q         h   \n",
       "3      b  27.83   1.540       u            g              w         v   \n",
       "4      b  20.17   5.625       u            g              w         v   \n",
       "..   ...    ...     ...     ...          ...            ...       ...   \n",
       "685    b  21.08  10.085       y            p              e         h   \n",
       "686    a  22.67   0.750       u            g              c         v   \n",
       "687    a  25.25  13.500       y            p             ff        ff   \n",
       "688    b  17.92   0.205       u            g             aa         v   \n",
       "689    b     35   3.375       u            g              c         h   \n",
       "\n",
       "     YearsEmployed PriorDefault Employed  CreditScore DriversLicense Citizen  \\\n",
       "0             1.25            t        t            1              f       g   \n",
       "1             3.04            t        t            6              f       g   \n",
       "2             1.50            t        f            0              f       g   \n",
       "3             3.75            t        t            5              t       g   \n",
       "4             1.71            t        f            0              f       s   \n",
       "..             ...          ...      ...          ...            ...     ...   \n",
       "685           1.25            f        f            0              f       g   \n",
       "686           2.00            f        t            2              t       g   \n",
       "687           2.00            f        t            1              t       g   \n",
       "688           0.04            f        f            0              f       g   \n",
       "689           8.29            f        f            0              t       g   \n",
       "\n",
       "    ZipCode  Income Approved  \n",
       "0       202       0        +  \n",
       "1        43     560        +  \n",
       "2       280     824        +  \n",
       "3       100       3        +  \n",
       "4       120       0        +  \n",
       "..      ...     ...      ...  \n",
       "685     260       0        -  \n",
       "686     200     394        -  \n",
       "687     200       1        -  \n",
       "688     280     750        -  \n",
       "689       0       0        -  \n",
       "\n",
       "[690 rows x 16 columns]"
      ]
     },
     "execution_count": 5,
     "metadata": {},
     "output_type": "execute_result"
    }
   ],
   "source": [
    "# Display the dataset\n",
    "df"
   ]
  },
  {
   "cell_type": "code",
   "execution_count": 6,
   "id": "8b98eed4-29b5-4b5b-b4cd-03c0c9bfede1",
   "metadata": {},
   "outputs": [
    {
     "name": "stdout",
     "output_type": "stream",
     "text": [
      "             Debt  YearsEmployed  CreditScore         Income\n",
      "count  690.000000     690.000000    690.00000     690.000000\n",
      "mean     4.758725       2.223406      2.40000    1017.385507\n",
      "std      4.978163       3.346513      4.86294    5210.102598\n",
      "min      0.000000       0.000000      0.00000       0.000000\n",
      "25%      1.000000       0.165000      0.00000       0.000000\n",
      "50%      2.750000       1.000000      0.00000       5.000000\n",
      "75%      7.207500       2.625000      3.00000     395.500000\n",
      "max     28.000000      28.500000     67.00000  100000.000000\n"
     ]
    }
   ],
   "source": [
    "# Display descriptive statistics\n",
    "print(df.describe())"
   ]
  },
  {
   "cell_type": "code",
   "execution_count": 7,
   "id": "10864641-6e71-4ffe-809b-a2e0e5b62f09",
   "metadata": {},
   "outputs": [
    {
     "name": "stdout",
     "output_type": "stream",
     "text": [
      "<class 'pandas.core.frame.DataFrame'>\n",
      "RangeIndex: 690 entries, 0 to 689\n",
      "Data columns (total 16 columns):\n",
      " #   Column          Non-Null Count  Dtype  \n",
      "---  ------          --------------  -----  \n",
      " 0   Male            690 non-null    object \n",
      " 1   Age             690 non-null    object \n",
      " 2   Debt            690 non-null    float64\n",
      " 3   Married         690 non-null    object \n",
      " 4   BankCustomer    690 non-null    object \n",
      " 5   EducationLevel  690 non-null    object \n",
      " 6   Ethnicity       690 non-null    object \n",
      " 7   YearsEmployed   690 non-null    float64\n",
      " 8   PriorDefault    690 non-null    object \n",
      " 9   Employed        690 non-null    object \n",
      " 10  CreditScore     690 non-null    int64  \n",
      " 11  DriversLicense  690 non-null    object \n",
      " 12  Citizen         690 non-null    object \n",
      " 13  ZipCode         690 non-null    object \n",
      " 14  Income          690 non-null    int64  \n",
      " 15  Approved        690 non-null    object \n",
      "dtypes: float64(2), int64(2), object(12)\n",
      "memory usage: 86.4+ KB\n"
     ]
    }
   ],
   "source": [
    "# Get the summary of the dataset\n",
    "df.info()"
   ]
  },
  {
   "cell_type": "markdown",
   "id": "b058863f-34a7-412e-97ce-a08bf118116c",
   "metadata": {},
   "source": [
    "## Data Cleaning"
   ]
  },
  {
   "cell_type": "code",
   "execution_count": 9,
   "id": "b81186c2-5304-47a4-8b80-c173a0be6cf2",
   "metadata": {},
   "outputs": [
    {
     "name": "stdout",
     "output_type": "stream",
     "text": [
      "Male              0\n",
      "Age               0\n",
      "Debt              0\n",
      "Married           0\n",
      "BankCustomer      0\n",
      "EducationLevel    0\n",
      "Ethnicity         0\n",
      "YearsEmployed     0\n",
      "PriorDefault      0\n",
      "Employed          0\n",
      "CreditScore       0\n",
      "DriversLicense    0\n",
      "Citizen           0\n",
      "ZipCode           0\n",
      "Income            0\n",
      "Approved          0\n",
      "dtype: int64\n"
     ]
    }
   ],
   "source": [
    "# Check for missing values\n",
    "print(df.isnull().sum())"
   ]
  },
  {
   "cell_type": "code",
   "execution_count": 10,
   "id": "ce02e0c6-69bc-4bc1-b366-a787923c5dc8",
   "metadata": {},
   "outputs": [
    {
     "name": "stdout",
     "output_type": "stream",
     "text": [
      "0\n"
     ]
    }
   ],
   "source": [
    "# Check for duplicate values \n",
    "print(df.duplicated().sum())"
   ]
  },
  {
   "cell_type": "code",
   "execution_count": 11,
   "id": "341043dc-96e3-4508-a489-ee84f31016f0",
   "metadata": {},
   "outputs": [
    {
     "name": "stdout",
     "output_type": "stream",
     "text": [
      "[]\n"
     ]
    }
   ],
   "source": [
    "# Missing data is represented as ?\n",
    "# Replace ? with Nan and then find the columns which have Nan values\n",
    "df.replace('?', np.NaN, inplace=True)\n",
    "df = df.dropna()\n",
    "\n",
    "# Check whether still there is any column which has missing values. \n",
    "missingColumns = df.columns[df.isna().any()].tolist()\n",
    "print(missingColumns)"
   ]
  },
  {
   "cell_type": "code",
   "execution_count": 12,
   "id": "346aa54d-da82-4660-b9d2-11c70af66a4c",
   "metadata": {},
   "outputs": [
    {
     "name": "stderr",
     "output_type": "stream",
     "text": [
      "C:\\Users\\Razi\\AppData\\Local\\Temp\\ipykernel_10712\\1216984358.py:2: SettingWithCopyWarning: \n",
      "A value is trying to be set on a copy of a slice from a DataFrame.\n",
      "Try using .loc[row_indexer,col_indexer] = value instead\n",
      "\n",
      "See the caveats in the documentation: https://pandas.pydata.org/pandas-docs/stable/user_guide/indexing.html#returning-a-view-versus-a-copy\n",
      "  df['Approved'] = df['Approved'].replace('-', 0)\n",
      "C:\\Users\\Razi\\AppData\\Local\\Temp\\ipykernel_10712\\1216984358.py:3: FutureWarning: Downcasting behavior in `replace` is deprecated and will be removed in a future version. To retain the old behavior, explicitly call `result.infer_objects(copy=False)`. To opt-in to the future behavior, set `pd.set_option('future.no_silent_downcasting', True)`\n",
      "  df['Approved'] = df['Approved'].replace('+', 1)\n",
      "C:\\Users\\Razi\\AppData\\Local\\Temp\\ipykernel_10712\\1216984358.py:3: SettingWithCopyWarning: \n",
      "A value is trying to be set on a copy of a slice from a DataFrame.\n",
      "Try using .loc[row_indexer,col_indexer] = value instead\n",
      "\n",
      "See the caveats in the documentation: https://pandas.pydata.org/pandas-docs/stable/user_guide/indexing.html#returning-a-view-versus-a-copy\n",
      "  df['Approved'] = df['Approved'].replace('+', 1)\n"
     ]
    },
    {
     "data": {
      "text/plain": [
       "0      1\n",
       "1      1\n",
       "2      1\n",
       "3      1\n",
       "4      1\n",
       "      ..\n",
       "685    0\n",
       "686    0\n",
       "687    0\n",
       "688    0\n",
       "689    0\n",
       "Name: Approved, Length: 653, dtype: int64"
      ]
     },
     "execution_count": 12,
     "metadata": {},
     "output_type": "execute_result"
    }
   ],
   "source": [
    "# Replace the Approved column (response variable) values from -/+ to 0/1 \n",
    "df['Approved'] = df['Approved'].replace('-', 0)\n",
    "df['Approved'] = df['Approved'].replace('+', 1)\n",
    "df['Approved']"
   ]
  },
  {
   "cell_type": "code",
   "execution_count": 13,
   "id": "8ca99f48-6ba9-4686-aafe-d41e06939675",
   "metadata": {},
   "outputs": [
    {
     "data": {
      "text/plain": [
       "Index(['Male', 'Age', 'Debt', 'Married', 'BankCustomer', 'EducationLevel',\n",
       "       'Ethnicity', 'YearsEmployed', 'PriorDefault', 'Employed', 'CreditScore',\n",
       "       'DriversLicense', 'Citizen', 'ZipCode', 'Income', 'Approved'],\n",
       "      dtype='object')"
      ]
     },
     "execution_count": 13,
     "metadata": {},
     "output_type": "execute_result"
    }
   ],
   "source": [
    "df.columns"
   ]
  },
  {
   "cell_type": "code",
   "execution_count": 14,
   "id": "7d211bb7-8260-43ca-9c18-3e02b07bed40",
   "metadata": {},
   "outputs": [
    {
     "name": "stdout",
     "output_type": "stream",
     "text": [
      "['Male', 'Age', 'Married', 'BankCustomer', 'EducationLevel', 'Ethnicity', 'PriorDefault', 'Employed', 'DriversLicense', 'Citizen', 'ZipCode']\n"
     ]
    }
   ],
   "source": [
    "num_cols = df._get_numeric_data().columns\n",
    "num_cols\n",
    "catgCol = []\n",
    "allCol = df.columns\n",
    "for i in allCol:\n",
    "    if i not in num_cols:\n",
    "        catgCol.append(i)\n",
    "print(catgCol)"
   ]
  },
  {
   "cell_type": "code",
   "execution_count": 15,
   "id": "6b5ec063-1270-4894-8fcb-38f5e217acea",
   "metadata": {},
   "outputs": [
    {
     "name": "stdout",
     "output_type": "stream",
     "text": [
      "Index(['Age', 'Debt', 'YearsEmployed', 'CreditScore', 'ZipCode', 'Income',\n",
      "       'Approved', 'Male_a', 'Male_b', 'Married_l', 'Married_u', 'Married_y',\n",
      "       'BankCustomer_g', 'BankCustomer_gg', 'BankCustomer_p',\n",
      "       'EducationLevel_aa', 'EducationLevel_c', 'EducationLevel_cc',\n",
      "       'EducationLevel_d', 'EducationLevel_e', 'EducationLevel_ff',\n",
      "       'EducationLevel_i', 'EducationLevel_j', 'EducationLevel_k',\n",
      "       'EducationLevel_m', 'EducationLevel_q', 'EducationLevel_r',\n",
      "       'EducationLevel_w', 'EducationLevel_x', 'Ethnicity_bb', 'Ethnicity_dd',\n",
      "       'Ethnicity_ff', 'Ethnicity_h', 'Ethnicity_j', 'Ethnicity_n',\n",
      "       'Ethnicity_o', 'Ethnicity_v', 'Ethnicity_z', 'PriorDefault_f',\n",
      "       'PriorDefault_t', 'Employed_f', 'Employed_t', 'DriversLicense_f',\n",
      "       'DriversLicense_t', 'Citizen_g', 'Citizen_p', 'Citizen_s'],\n",
      "      dtype='object')\n"
     ]
    }
   ],
   "source": [
    "# Before training it is necessary to convert the categorical data into numerical with help of hotEncoding so that it becomes easier for training. \n",
    "\n",
    "data = pd.get_dummies(df, columns=['Male', 'Married', 'BankCustomer', 'EducationLevel',\n",
    "                      'Ethnicity', 'PriorDefault', 'Employed', 'DriversLicense', 'Citizen',])\n",
    "\n",
    "print(data.columns)"
   ]
  },
  {
   "cell_type": "markdown",
   "id": "c6d39075-c7e0-4258-96f5-471dd2b938d6",
   "metadata": {},
   "source": [
    "## Data PreProcessing"
   ]
  },
  {
   "cell_type": "code",
   "execution_count": 17,
   "id": "31495a7f-6e8e-4346-b432-d34fd1739b89",
   "metadata": {},
   "outputs": [],
   "source": [
    "# Create a train and test set after cleaning the data. Use 30% (0.3) records for test set\n",
    "dataTrain, dataTest = train_test_split(data, test_size=0.3, random_state=100)"
   ]
  },
  {
   "cell_type": "markdown",
   "id": "da2a8fd0-2f1b-4d56-91eb-b72ea002fb20",
   "metadata": {},
   "source": [
    "## Decision Tree"
   ]
  },
  {
   "cell_type": "code",
   "execution_count": 19,
   "id": "f52dc9a6-081a-4e90-8f3a-6750fa7c87bc",
   "metadata": {},
   "outputs": [],
   "source": [
    "X = data.drop(['Approved'], axis=1)\n",
    "Y = data['Approved']\n",
    "dt = tree.DecisionTreeClassifier(random_state=99)"
   ]
  },
  {
   "cell_type": "code",
   "execution_count": 20,
   "id": "cfb7832b-3802-4f1c-a25d-535a67a2d86a",
   "metadata": {},
   "outputs": [
    {
     "data": {
      "text/plain": [
       "array([0.05573891, 0.08281139, 0.02040212, 0.00671275, 0.06674618,\n",
       "       0.06299288, 0.        , 0.01294875, 0.        , 0.        ,\n",
       "       0.        , 0.        , 0.01546751, 0.00734207, 0.        ,\n",
       "       0.0201675 , 0.00174273, 0.        , 0.00709034, 0.        ,\n",
       "       0.00122405, 0.        , 0.01037337, 0.00667461, 0.00964958,\n",
       "       0.        , 0.        , 0.00580144, 0.02535719, 0.        ,\n",
       "       0.        , 0.        , 0.        , 0.        , 0.        ,\n",
       "       0.        , 0.        , 0.51199466, 0.        , 0.        ,\n",
       "       0.05106232, 0.01769964, 0.        , 0.        , 0.        ,\n",
       "       0.        ])"
      ]
     },
     "execution_count": 20,
     "metadata": {},
     "output_type": "execute_result"
    }
   ],
   "source": [
    "X_train, X_test, y_train, y_test = train_test_split(\n",
    "    X, Y, test_size=0.3, random_state=100)\n",
    "\n",
    "dtmodelTrain = dt.fit(X_train, y_train)\n",
    "dtmodelTrain.feature_importances_"
   ]
  },
  {
   "cell_type": "code",
   "execution_count": 21,
   "id": "c3aa81aa-55fd-40db-8c02-01ce706aa73c",
   "metadata": {},
   "outputs": [
    {
     "data": {
      "text/plain": [
       "array([1, 1, 1, 0, 0, 0, 0, 0, 1, 0, 0, 1, 0, 1, 1, 0, 1, 0, 0, 0, 1, 0,\n",
       "       1, 0, 1, 1, 1, 1, 1, 0, 1, 1, 0, 1, 0, 1, 1, 1, 1, 0, 0, 1, 0, 0,\n",
       "       1, 0, 0, 1, 0, 1, 1, 0, 1, 0, 0, 0, 1, 0, 0, 0, 1, 0, 0, 0, 1, 1,\n",
       "       1, 0, 1, 0, 0, 1, 0, 0, 1, 1, 0, 1, 1, 0, 0, 0, 1, 1, 1, 0, 1, 1,\n",
       "       1, 0, 0, 0, 1, 0, 0, 0, 1, 1, 0, 1, 0, 1, 1, 1, 0, 0, 0, 1, 1, 0,\n",
       "       0, 0, 1, 0, 0, 0, 0, 1, 1, 1, 1, 0, 0, 0, 1, 0, 1, 0, 0, 1, 0, 0,\n",
       "       0, 1, 1, 0, 0, 0, 0, 1, 0, 1, 1, 1, 1, 0, 1, 0, 1, 1, 1, 1, 0, 0,\n",
       "       1, 1, 0, 1, 0, 0, 0, 0, 1, 0, 1, 0, 0, 0, 1, 0, 0, 0, 0, 1, 0, 1,\n",
       "       0, 1, 1, 0, 0, 0, 0, 1, 0, 0, 0, 1, 0, 0, 0, 0, 1, 1, 1, 1, 1, 0,\n",
       "       0, 1, 1, 0, 1, 1, 0, 0, 1, 1, 1, 0, 0, 0, 1, 1, 0, 1, 1, 0, 1, 0,\n",
       "       0, 0, 1, 0, 0, 1, 0, 0, 0, 1, 0, 0, 0, 1, 1, 0, 1, 1, 1, 1, 1, 0,\n",
       "       0, 0, 0, 0, 1, 1, 0, 0, 1, 1, 0, 0, 0, 1, 1, 0, 0, 1, 0, 0, 0, 1,\n",
       "       1, 1, 0, 0, 1, 0, 0, 0, 1, 1, 0, 0, 1, 0, 1, 1, 0, 0, 0, 1, 1, 0,\n",
       "       1, 1, 1, 0, 1, 0, 1, 1, 1, 0, 0, 0, 0, 1, 0, 0, 1, 1, 1, 1, 0, 1,\n",
       "       0, 1, 1, 0, 0, 1, 0, 1, 0, 0, 0, 1, 1, 0, 1, 0, 0, 1, 0, 0, 1, 0,\n",
       "       1, 1, 0, 1, 0, 0, 0, 1, 1, 1, 0, 1, 0, 0, 0, 0, 1, 0, 0, 0, 0, 1,\n",
       "       0, 0, 0, 1, 1, 1, 1, 1, 1, 1, 1, 0, 0, 1, 0, 0, 1, 0, 0, 1, 1, 0,\n",
       "       0, 0, 0, 1, 0, 0, 0, 0, 1, 1, 0, 0, 0, 0, 0, 0, 1, 0, 1, 1, 1, 1,\n",
       "       1, 0, 0, 1, 0, 1, 0, 1, 0, 0, 1, 1, 1, 1, 0, 1, 1, 0, 1, 1, 1, 0,\n",
       "       0, 0, 1, 0, 1, 0, 0, 1, 0, 1, 1, 0, 1, 0, 1, 0, 0, 0, 1, 1, 0, 1,\n",
       "       0, 1, 0, 0, 0, 0, 0, 0, 0, 1, 0, 1, 0, 1, 0, 0, 1], dtype=int64)"
      ]
     },
     "execution_count": 21,
     "metadata": {},
     "output_type": "execute_result"
    }
   ],
   "source": [
    "train_pred = dtmodelTrain.predict(X_train)\n",
    "train_pred"
   ]
  },
  {
   "cell_type": "code",
   "execution_count": 22,
   "id": "a7225b58-5a92-4c61-9480-44656bf7e0a7",
   "metadata": {},
   "outputs": [
    {
     "data": {
      "text/plain": [
       "100.0"
      ]
     },
     "execution_count": 22,
     "metadata": {},
     "output_type": "execute_result"
    }
   ],
   "source": [
    "accTrain = (accuracy_score(train_pred, y_train) * 100)\n",
    "accTrain"
   ]
  },
  {
   "cell_type": "code",
   "execution_count": 23,
   "id": "2bbdbada-27cc-474c-814b-ccae4bc6cae9",
   "metadata": {},
   "outputs": [],
   "source": [
    "test_pred = dtmodelTrain.predict(X_test)"
   ]
  },
  {
   "cell_type": "code",
   "execution_count": 24,
   "id": "2c73b886-ec16-4456-906c-e6706f2435ce",
   "metadata": {},
   "outputs": [
    {
     "data": {
      "text/plain": [
       "83.16326530612244"
      ]
     },
     "execution_count": 24,
     "metadata": {},
     "output_type": "execute_result"
    }
   ],
   "source": [
    "accTest = (accuracy_score(test_pred, y_test)* 100)\n",
    "accTest"
   ]
  },
  {
   "cell_type": "markdown",
   "id": "2a0e5a11-5a26-435a-9299-28ed1854d33c",
   "metadata": {},
   "source": [
    "#### Analysis\n",
    "This differnce in test accuracy and train accuracy is significant which means that the model is overfitted and we need to correct it out."
   ]
  },
  {
   "cell_type": "code",
   "execution_count": 26,
   "id": "b1405469-640c-41cf-a709-d4985cb9b65e",
   "metadata": {},
   "outputs": [
    {
     "name": "stdout",
     "output_type": "stream",
     "text": [
      "|--- feature_37 <= 0.50\n",
      "|   |--- feature_40 <= 0.50\n",
      "|   |   |--- feature_4 <= 75.00\n",
      "|   |   |   |--- feature_1 <= 22.04\n",
      "|   |   |   |   |--- feature_5 <= 100.00\n",
      "|   |   |   |   |   |--- class: 1\n",
      "|   |   |   |   |--- feature_5 >  100.00\n",
      "|   |   |   |   |   |--- feature_5 <= 262.50\n",
      "|   |   |   |   |   |   |--- class: 0\n",
      "|   |   |   |   |   |--- feature_5 >  262.50\n",
      "|   |   |   |   |   |   |--- class: 1\n",
      "|   |   |   |--- feature_1 >  22.04\n",
      "|   |   |   |   |--- class: 0\n",
      "|   |   |--- feature_4 >  75.00\n",
      "|   |   |   |--- feature_5 <= 125.00\n",
      "|   |   |   |   |--- feature_0 <= 37.46\n",
      "|   |   |   |   |   |--- feature_0 <= 33.29\n",
      "|   |   |   |   |   |   |--- feature_1 <= 10.75\n",
      "|   |   |   |   |   |   |   |--- feature_1 <= 2.52\n",
      "|   |   |   |   |   |   |   |   |--- feature_15 <= 0.50\n",
      "|   |   |   |   |   |   |   |   |   |--- feature_18 <= 0.50\n",
      "|   |   |   |   |   |   |   |   |   |   |--- feature_24 <= 0.50\n",
      "|   |   |   |   |   |   |   |   |   |   |   |--- class: 0\n",
      "|   |   |   |   |   |   |   |   |   |   |--- feature_24 >  0.50\n",
      "|   |   |   |   |   |   |   |   |   |   |   |--- truncated branch of depth 2\n",
      "|   |   |   |   |   |   |   |   |   |--- feature_18 >  0.50\n",
      "|   |   |   |   |   |   |   |   |   |   |--- class: 1\n",
      "|   |   |   |   |   |   |   |   |--- feature_15 >  0.50\n",
      "|   |   |   |   |   |   |   |   |   |--- feature_1 <= 1.54\n",
      "|   |   |   |   |   |   |   |   |   |   |--- class: 1\n",
      "|   |   |   |   |   |   |   |   |   |--- feature_1 >  1.54\n",
      "|   |   |   |   |   |   |   |   |   |   |--- class: 0\n",
      "|   |   |   |   |   |   |   |--- feature_1 >  2.52\n",
      "|   |   |   |   |   |   |   |   |--- feature_28 <= 0.50\n",
      "|   |   |   |   |   |   |   |   |   |--- feature_22 <= 0.50\n",
      "|   |   |   |   |   |   |   |   |   |   |--- class: 1\n",
      "|   |   |   |   |   |   |   |   |   |--- feature_22 >  0.50\n",
      "|   |   |   |   |   |   |   |   |   |   |--- class: 0\n",
      "|   |   |   |   |   |   |   |   |--- feature_28 >  0.50\n",
      "|   |   |   |   |   |   |   |   |   |--- class: 0\n",
      "|   |   |   |   |   |   |--- feature_1 >  10.75\n",
      "|   |   |   |   |   |   |   |--- class: 0\n",
      "|   |   |   |   |   |--- feature_0 >  33.29\n",
      "|   |   |   |   |   |   |--- class: 0\n",
      "|   |   |   |   |--- feature_0 >  37.46\n",
      "|   |   |   |   |   |--- feature_15 <= 0.50\n",
      "|   |   |   |   |   |   |--- feature_7 <= 0.50\n",
      "|   |   |   |   |   |   |   |--- feature_24 <= 0.50\n",
      "|   |   |   |   |   |   |   |   |--- class: 0\n",
      "|   |   |   |   |   |   |   |--- feature_24 >  0.50\n",
      "|   |   |   |   |   |   |   |   |--- class: 1\n",
      "|   |   |   |   |   |   |--- feature_7 >  0.50\n",
      "|   |   |   |   |   |   |   |--- class: 1\n",
      "|   |   |   |   |   |--- feature_15 >  0.50\n",
      "|   |   |   |   |   |   |--- class: 0\n",
      "|   |   |   |--- feature_5 >  125.00\n",
      "|   |   |   |   |--- feature_28 <= 0.50\n",
      "|   |   |   |   |   |--- feature_0 <= 20.67\n",
      "|   |   |   |   |   |   |--- class: 0\n",
      "|   |   |   |   |   |--- feature_0 >  20.67\n",
      "|   |   |   |   |   |   |--- class: 1\n",
      "|   |   |   |   |--- feature_28 >  0.50\n",
      "|   |   |   |   |   |--- class: 0\n",
      "|   |--- feature_40 >  0.50\n",
      "|   |   |--- feature_1 <= 1.33\n",
      "|   |   |   |--- feature_1 <= 1.08\n",
      "|   |   |   |   |--- feature_4 <= 214.00\n",
      "|   |   |   |   |   |--- feature_41 <= 0.50\n",
      "|   |   |   |   |   |   |--- feature_4 <= 114.00\n",
      "|   |   |   |   |   |   |   |--- class: 1\n",
      "|   |   |   |   |   |   |--- feature_4 >  114.00\n",
      "|   |   |   |   |   |   |   |--- class: 0\n",
      "|   |   |   |   |   |--- feature_41 >  0.50\n",
      "|   |   |   |   |   |   |--- class: 1\n",
      "|   |   |   |   |--- feature_4 >  214.00\n",
      "|   |   |   |   |   |--- class: 1\n",
      "|   |   |   |--- feature_1 >  1.08\n",
      "|   |   |   |   |--- class: 0\n",
      "|   |   |--- feature_1 >  1.33\n",
      "|   |   |   |--- feature_4 <= 671.50\n",
      "|   |   |   |   |--- feature_2 <= 0.39\n",
      "|   |   |   |   |   |--- feature_3 <= 2.00\n",
      "|   |   |   |   |   |   |--- feature_5 <= 150.00\n",
      "|   |   |   |   |   |   |   |--- class: 0\n",
      "|   |   |   |   |   |   |--- feature_5 >  150.00\n",
      "|   |   |   |   |   |   |   |--- class: 1\n",
      "|   |   |   |   |   |--- feature_3 >  2.00\n",
      "|   |   |   |   |   |   |--- class: 1\n",
      "|   |   |   |   |--- feature_2 >  0.39\n",
      "|   |   |   |   |   |--- feature_22 <= 0.50\n",
      "|   |   |   |   |   |   |--- feature_20 <= 0.50\n",
      "|   |   |   |   |   |   |   |--- feature_0 <= 22.54\n",
      "|   |   |   |   |   |   |   |   |--- feature_0 <= 22.46\n",
      "|   |   |   |   |   |   |   |   |   |--- class: 1\n",
      "|   |   |   |   |   |   |   |   |--- feature_0 >  22.46\n",
      "|   |   |   |   |   |   |   |   |   |--- class: 0\n",
      "|   |   |   |   |   |   |   |--- feature_0 >  22.54\n",
      "|   |   |   |   |   |   |   |   |--- class: 1\n",
      "|   |   |   |   |   |   |--- feature_20 >  0.50\n",
      "|   |   |   |   |   |   |   |--- feature_13 <= 0.50\n",
      "|   |   |   |   |   |   |   |   |--- class: 1\n",
      "|   |   |   |   |   |   |   |--- feature_13 >  0.50\n",
      "|   |   |   |   |   |   |   |   |--- class: 0\n",
      "|   |   |   |   |   |--- feature_22 >  0.50\n",
      "|   |   |   |   |   |   |--- feature_5 <= 637.50\n",
      "|   |   |   |   |   |   |   |--- class: 0\n",
      "|   |   |   |   |   |   |--- feature_5 >  637.50\n",
      "|   |   |   |   |   |   |   |--- class: 1\n",
      "|   |   |   |--- feature_4 >  671.50\n",
      "|   |   |   |   |--- class: 0\n",
      "|--- feature_37 >  0.50\n",
      "|   |--- feature_12 <= 0.50\n",
      "|   |   |--- feature_1 <= 0.21\n",
      "|   |   |   |--- feature_2 <= 1.08\n",
      "|   |   |   |   |--- feature_23 <= 0.50\n",
      "|   |   |   |   |   |--- feature_0 <= 16.21\n",
      "|   |   |   |   |   |   |--- class: 1\n",
      "|   |   |   |   |   |--- feature_0 >  16.21\n",
      "|   |   |   |   |   |   |--- class: 0\n",
      "|   |   |   |   |--- feature_23 >  0.50\n",
      "|   |   |   |   |   |--- class: 1\n",
      "|   |   |   |--- feature_2 >  1.08\n",
      "|   |   |   |   |--- class: 1\n",
      "|   |   |--- feature_1 >  0.21\n",
      "|   |   |   |--- feature_27 <= 0.50\n",
      "|   |   |   |   |--- feature_1 <= 1.52\n",
      "|   |   |   |   |   |--- feature_2 <= 1.33\n",
      "|   |   |   |   |   |   |--- feature_16 <= 0.50\n",
      "|   |   |   |   |   |   |   |--- feature_4 <= 104.00\n",
      "|   |   |   |   |   |   |   |   |--- feature_2 <= 0.15\n",
      "|   |   |   |   |   |   |   |   |   |--- class: 0\n",
      "|   |   |   |   |   |   |   |   |--- feature_2 >  0.15\n",
      "|   |   |   |   |   |   |   |   |   |--- feature_1 <= 0.87\n",
      "|   |   |   |   |   |   |   |   |   |   |--- class: 1\n",
      "|   |   |   |   |   |   |   |   |   |--- feature_1 >  0.87\n",
      "|   |   |   |   |   |   |   |   |   |   |--- class: 0\n",
      "|   |   |   |   |   |   |   |--- feature_4 >  104.00\n",
      "|   |   |   |   |   |   |   |   |--- class: 0\n",
      "|   |   |   |   |   |   |--- feature_16 >  0.50\n",
      "|   |   |   |   |   |   |   |--- feature_0 <= 33.62\n",
      "|   |   |   |   |   |   |   |   |--- class: 0\n",
      "|   |   |   |   |   |   |   |--- feature_0 >  33.62\n",
      "|   |   |   |   |   |   |   |   |--- class: 1\n",
      "|   |   |   |   |   |--- feature_2 >  1.33\n",
      "|   |   |   |   |   |   |--- feature_4 <= 425.50\n",
      "|   |   |   |   |   |   |   |--- feature_0 <= 22.38\n",
      "|   |   |   |   |   |   |   |   |--- feature_4 <= 118.00\n",
      "|   |   |   |   |   |   |   |   |   |--- class: 0\n",
      "|   |   |   |   |   |   |   |   |--- feature_4 >  118.00\n",
      "|   |   |   |   |   |   |   |   |   |--- class: 1\n",
      "|   |   |   |   |   |   |   |--- feature_0 >  22.38\n",
      "|   |   |   |   |   |   |   |   |--- class: 0\n",
      "|   |   |   |   |   |   |--- feature_4 >  425.50\n",
      "|   |   |   |   |   |   |   |--- class: 1\n",
      "|   |   |   |   |--- feature_1 >  1.52\n",
      "|   |   |   |   |   |--- feature_5 <= 1995.00\n",
      "|   |   |   |   |   |   |--- class: 0\n",
      "|   |   |   |   |   |--- feature_5 >  1995.00\n",
      "|   |   |   |   |   |   |--- feature_5 <= 3121.00\n",
      "|   |   |   |   |   |   |   |--- class: 1\n",
      "|   |   |   |   |   |   |--- feature_5 >  3121.00\n",
      "|   |   |   |   |   |   |   |--- class: 0\n",
      "|   |   |   |--- feature_27 >  0.50\n",
      "|   |   |   |   |--- feature_1 <= 4.33\n",
      "|   |   |   |   |   |--- class: 0\n",
      "|   |   |   |   |--- feature_1 >  4.33\n",
      "|   |   |   |   |   |--- class: 1\n",
      "|   |--- feature_12 >  0.50\n",
      "|   |   |--- class: 1\n",
      "\n"
     ]
    }
   ],
   "source": [
    "treeRepr = tree.export_text(dtmodelTrain)\n",
    "# fig = plt.figure(figsize=(50, 45))\n",
    "# _ = tree.plot_tree(dtmodelTrain,\n",
    "#                    feature_names=list(X.columns),\n",
    "#                    class_names=Y.value_counts().index,\n",
    "#                    filled=True)\n",
    "\n",
    "print(treeRepr)"
   ]
  },
  {
   "cell_type": "code",
   "execution_count": 27,
   "id": "32b58256-1770-4efd-9de4-3fd82fc5512e",
   "metadata": {},
   "outputs": [
    {
     "data": {
      "text/plain": [
       "<matplotlib.legend.Legend at 0x19d34d17980>"
      ]
     },
     "execution_count": 27,
     "metadata": {},
     "output_type": "execute_result"
    },
    {
     "data": {
      "image/png": "[encoded data removed]",
      "text/plain": [
       "<Figure size 640x480 with 1 Axes>"
      ]
     },
     "metadata": {},
     "output_type": "display_data"
    }
   ],
   "source": [
    "# to solve the problem of overfitting we will have to narrow down some braches of decission tree. \n",
    "maxdepth = []\n",
    "accuracy = []\n",
    "for i in range(1, 40):\n",
    "    purTree = tree.DecisionTreeClassifier(criterion='gini', max_depth=i, random_state=99)\n",
    "    purTree.fit(X_train, y_train)\n",
    "    purePred = purTree.predict(X_test)\n",
    "    tempAcc = accuracy_score(y_test, purePred)\n",
    "    accuracy.append(tempAcc)\n",
    "    maxdepth.append(i)\n",
    "\n",
    "data = pd.DataFrame({'accuracy': pd.Series(\n",
    "    accuracy), 'max_depth': pd.Series(maxdepth)})\n",
    "plt.plot('max_depth', 'accuracy', data=data)\n",
    "plt.xlabel('max_depth')\n",
    "plt.ylabel('accuracy')\n",
    "plt.legend()"
   ]
  },
  {
   "cell_type": "markdown",
   "id": "077a9bdd-91bb-421d-8ff1-190ad44ce9e4",
   "metadata": {},
   "source": [
    "According to above model, it seems that with increasing depth we are decreasing our chances of fitmodel. so if we make less branches then we can archieve higher accuracy."
   ]
  },
  {
   "cell_type": "code",
   "execution_count": 29,
   "id": "7bfd76b8-edba-42a8-969c-cce63510ec34",
   "metadata": {},
   "outputs": [],
   "source": [
    "dt = tree.DecisionTreeClassifier(criterion='gini',max_depth=4)"
   ]
  },
  {
   "cell_type": "code",
   "execution_count": 30,
   "id": "9ef0c8c0-0a5a-4fc7-ae90-34687b82a6ce",
   "metadata": {},
   "outputs": [
    {
     "data": {
      "text/plain": [
       "89.93435448577681"
      ]
     },
     "execution_count": 30,
     "metadata": {},
     "output_type": "execute_result"
    }
   ],
   "source": [
    "dtmodel = dt.fit(X_train, y_train)\n",
    "train_pred = dtmodel.predict(X_train)\n",
    "acc = accuracy_score(train_pred, y_train)\n",
    "acc*100"
   ]
  },
  {
   "cell_type": "markdown",
   "id": "2998b2a4-e01a-4ad8-a4a5-4d6945267256",
   "metadata": {},
   "source": [
    "### Final Analysis on Decission Tree With Pruning Model\n",
    "\n",
    "So according to the results shows above, we can clearly see that when we did not apply pruning, the model was being overfitted as it caused the less accuracy of 85.7%. After Pruning we found the best depth of Model which came out to be 89.9% which means that pruning did increase the accuracy of getting the right results."
   ]
  },
  {
   "cell_type": "markdown",
   "id": "8849b5fc-72f9-416c-bcdc-473417926d53",
   "metadata": {},
   "source": [
    "## Random Forest"
   ]
  },
  {
   "cell_type": "code",
   "execution_count": 33,
   "id": "3190192d-1696-4553-8543-ee2725809144",
   "metadata": {},
   "outputs": [
    {
     "name": "stdout",
     "output_type": "stream",
     "text": [
      "[(150, 92.3469387755102), (200, 91.83673469387756), (250, 91.83673469387756), (300, 91.3265306122449), (100, 90.81632653061224), (50, 90.3061224489796)]\n"
     ]
    }
   ],
   "source": [
    "nEstimatorList = [50, 100, 150, 200, 250, 300]\n",
    "resultDic = {}\n",
    "\n",
    "for i in nEstimatorList:\n",
    "    rf_nEsti = RandomForestClassifier(n_estimators=i)\n",
    "    rfModel_nEsti = rf_nEsti.fit(X_train, y_train)\n",
    "    trainPredrf = rfModel_nEsti.predict(X_train)\n",
    "    accuracyTrain = (accuracy_score(trainPredrf, y_train) * 100)\n",
    "    testPredrf = rfModel_nEsti.predict(X_test)\n",
    "    accuracyTest = (accuracy_score(testPredrf, y_test) * 100)\n",
    "    accuracyTest\n",
    "    resultDic[i] = accuracyTest\n",
    "    \n",
    "\n",
    "sorted_dic = sorted(resultDic.items(), key= lambda x: x[1], reverse=True)\n",
    "print(sorted_dic)"
   ]
  },
  {
   "cell_type": "code",
   "execution_count": 34,
   "id": "af3c1ab0-2dd9-413f-a328-3e33ed3b8db1",
   "metadata": {},
   "outputs": [
    {
     "data": {
      "text/plain": [
       "Text(0.5, 0, 'Random Forest Feature Importance')"
      ]
     },
     "execution_count": 34,
     "metadata": {},
     "output_type": "execute_result"
    },
    {
     "data": {
      "image/png": "[encoded data removed]",
      "text/plain": [
       "<Figure size 640x480 with 1 Axes>"
      ]
     },
     "metadata": {},
     "output_type": "display_data"
    }
   ],
   "source": [
    "# So the best model we have got so far is with 50 as this is giving us the greatest accuracy so far. \n",
    "rf = RandomForestClassifier(n_estimators=50)\n",
    "rfmodel = rf_nEsti.fit(X_train, y_train)\n",
    "\n",
    "# Though there were 46 colums initially and it was becoming very hard to display the improtnace of all of them. Thus I first handled the importance of all features and reversed sorted it. This gave me those parameters or features which have highest importance so displayed that. \n",
    "\n",
    "sorted_idx = rfmodel.feature_importances_.argsort()\n",
    "plt.barh(list(X.columns[sorted_idx])[0:13],\n",
    "         rfmodel.feature_importances_[sorted_idx][0:13])\n",
    "plt.xlabel(\"Random Forest Feature Importance\")"
   ]
  },
  {
   "cell_type": "code",
   "execution_count": 35,
   "id": "1038b88b-b822-4250-9100-93c4ef6c494e",
   "metadata": {},
   "outputs": [
    {
     "name": "stdout",
     "output_type": "stream",
     "text": [
      "Cross Validation Score for Decission Tree Model 0.8207633587786258\n",
      "Cross Validation Score for Random Forest Model 0.8514034057545509\n"
     ]
    }
   ],
   "source": [
    "scoresDT = cross_val_score(dtmodel, X, Y, cv=5)\n",
    "print(f'Cross Validation Score for Decission Tree Model {scoresDT.mean()}')\n",
    "\n",
    "scoresRf = cross_val_score(rfmodel, X, Y, cv=5)\n",
    "print(f'Cross Validation Score for Random Forest Model {scoresRf.mean()}')"
   ]
  },
  {
   "cell_type": "markdown",
   "id": "c2155a43-e38e-4087-a2b4-f26bde66d722",
   "metadata": {},
   "source": [
    "## Analysis\n",
    "* Both the Decision Tree and Random Forest models are effective for classification tasks, but the cross-validation (CV) scores suggest that Random Forest is slightly better.\n",
    "* This is supported by the fact that the Decision Tree model required significant pruning to address overfitting and still had lower accuracy than the Random Forest model, which did not require tuning.\n",
    "* However, both models were effective in identifying false positives and false negatives.\n",
    "* The Random Forest model is preferred over Decision Tree as it achieves high accuracy without the need for extensive tuning, while Decision Tree requires pruning and other techniques to achieve comparable accuracy.\n",
    "* Random Forest also has the advantage that testing accuracy can be increased by adding more trees without compromising training accuracy."
   ]
  }
 ],
 "metadata": {
  "kernelspec": {
   "display_name": "Python 3 (ipykernel)",
   "language": "python",
   "name": "python3"
  },
  "language_info": {
   "codemirror_mode": {
    "name": "ipython",
    "version": 3
   },
   "file_extension": ".py",
   "mimetype": "text/x-python",
   "name": "python",
   "nbconvert_exporter": "python",
   "pygments_lexer": "ipython3",
   "version": "3.12.4"
  }
 },
 "nbformat": 4,
 "nbformat_minor": 5
}
